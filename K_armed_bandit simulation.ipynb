{
 "cells": [
  {
   "cell_type": "markdown",
   "metadata": {},
   "source": [
    "# K-Armed Bandit Simulation Testing"
   ]
  },
  {
   "cell_type": "markdown",
   "metadata": {},
   "source": [
    "The purpose of this notebook is to explore the k-armed bandit problem. \n",
    "\n",
    "The k-armed bandit problem is simply the idea that we have k possible bandits, or generators. A common analogy is to think of the bandits as being slot machines. The bandits individually follow seperate distributions, which corresponds to each of the slot machines having seperate chances of paying out. \n",
    "\n",
    "If given n possible turns, the best choice would be to pick the bandit that has the highest expected value. In this simulation, the bandits are generating from a normal distribution. Therefore, the goal should be to pick the bandit with the highest mean. However, there is no way of knowing the means of each of the bandits without generator from each of them.\n",
    "\n",
    "A simple algorithm would be to use k of the n turns to generate a value from each bandit. Then, the bandit with the highest mean, you declare that to be the best option, and just use the (n - k) remaining turns picking that bandit. However, this ignores the randomness of the value generation. For example, a suboptimal bandit may have been chosen, causing the person to keep making suboptimal choices for the rest of the simulation.\n",
    "\n",
    "Therefore, if the goal is to make the most money from the slot machines in n turns, the more nuanced solution would be to mostly pick the bandit (slot machine) that you think is the best, but also try out the other slot machines to avoid making suboptimal choices.\n",
    "\n",
    "This problem represents a large-scale issue within reinforcement learning of balancing exploitation and exploration in the learning progress of an agent. If given no information of the environment, the agent should explore randomly to learn as much as it can. However, if only focusing on exploration, there is a computational inefficiently of exploring useless choices. Therefore, there must be a balance forged between exploration and making the predicted optimal choice (exploitation)."
   ]
  },
  {
   "cell_type": "code",
   "execution_count": 1,
   "metadata": {},
   "outputs": [],
   "source": [
    "from k_armed_bandits import create_model, simulation_e_greedy"
   ]
  },
  {
   "cell_type": "code",
   "execution_count": 2,
   "metadata": {},
   "outputs": [],
   "source": [
    "import numpy as np\n",
    "import matplotlib.pyplot as plt\n",
    "import pandas as pd\n",
    "from mpl_toolkits.mplot3d import axes3d, Axes3D\n",
    "from pandas.plotting import scatter_matrix"
   ]
  },
  {
   "cell_type": "markdown",
   "metadata": {},
   "source": [
    "## Basic Simultion of K-armed bandit problem"
   ]
  },
  {
   "cell_type": "markdown",
   "metadata": {},
   "source": [
    "The algorithm used is fairly simple. If given k bandits, we keep track of a running average of each of the bandits. Then, you pick the bandit with the highest average."
   ]
  },
  {
   "cell_type": "code",
   "execution_count": 3,
   "metadata": {},
   "outputs": [],
   "source": [
    "np.random.seed(1)"
   ]
  },
  {
   "cell_type": "code",
   "execution_count": 4,
   "metadata": {},
   "outputs": [],
   "source": [
    "k = 10\n",
    "max_sd = 10\n",
    "min_mean = 5\n",
    "max_mean = 30"
   ]
  },
  {
   "cell_type": "code",
   "execution_count": 5,
   "metadata": {},
   "outputs": [],
   "source": [
    "ground_truth = create_model(k, max_sd, min_mean, max_mean)"
   ]
  },
  {
   "cell_type": "code",
   "execution_count": 6,
   "metadata": {},
   "outputs": [],
   "source": [
    "policy = np.zeros(k)\n",
    "\n",
    "epsilon = 0\n",
    "n = 1000\n",
    "step_size = 1\n",
    "c = 0"
   ]
  },
  {
   "cell_type": "code",
   "execution_count": 7,
   "metadata": {},
   "outputs": [],
   "source": [
    "iterations = 1000"
   ]
  },
  {
   "cell_type": "code",
   "execution_count": 8,
   "metadata": {},
   "outputs": [
    {
     "name": "stdout",
     "output_type": "stream",
     "text": [
      "100 iterations finished\n",
      "200 iterations finished\n",
      "300 iterations finished\n",
      "400 iterations finished\n",
      "500 iterations finished\n",
      "600 iterations finished\n",
      "700 iterations finished\n",
      "800 iterations finished\n",
      "900 iterations finished\n",
      "1000 iterations finished\n"
     ]
    }
   ],
   "source": [
    "rewards = []\n",
    "for i in range(iterations):\n",
    "    if (((i + 1) % 100) == 0):\n",
    "        print(\"{} iterations finished\".format(str(i + 1)))\n",
    "    counts, choices, policy, total_reward = simulation_e_greedy(ground_truth, \n",
    "                                                                policy, \n",
    "                                                                epsilon,\n",
    "                                                                n,\n",
    "                                                                k,\n",
    "                                                                step_size,\n",
    "                                                               c)\n",
    "    rewards.append(total_reward)"
   ]
  },
  {
   "cell_type": "code",
   "execution_count": 9,
   "metadata": {},
   "outputs": [
    {
     "name": "stdout",
     "output_type": "stream",
     "text": [
      "Mean Reward: 10000.858589979798\n"
     ]
    },
    {
     "data": {
      "image/png": "[encoded data removed]",
      "text/plain": [
       "<Figure size 432x288 with 1 Axes>"
      ]
     },
     "metadata": {},
     "output_type": "display_data"
    }
   ],
   "source": [
    "plt.hist(rewards, bins = 20)\n",
    "print(\"Mean Reward: {}\".format(np.mean(rewards)))\n",
    "plt.show()"
   ]
  },
  {
   "cell_type": "markdown",
   "metadata": {},
   "source": [
    "This shows that if you simply pick the a bandit at random and continue, then the reward averages out to about 1000."
   ]
  },
  {
   "cell_type": "markdown",
   "metadata": {},
   "source": [
    "## Testing out Number of Bandits"
   ]
  },
  {
   "cell_type": "markdown",
   "metadata": {},
   "source": [
    "In this experiment, we are using the a simple e-greedy algorithm with the e parameter @ 0.1"
   ]
  },
  {
   "cell_type": "code",
   "execution_count": 10,
   "metadata": {},
   "outputs": [],
   "source": [
    "k = 10\n",
    "max_sd = 10\n",
    "min_mean = 5\n",
    "max_mean = 30"
   ]
  },
  {
   "cell_type": "code",
   "execution_count": 11,
   "metadata": {},
   "outputs": [],
   "source": [
    "k_values = range(2,100)"
   ]
  },
  {
   "cell_type": "code",
   "execution_count": 12,
   "metadata": {},
   "outputs": [],
   "source": [
    "policy = np.zeros(k)\n",
    "\n",
    "epsilon = 0.1\n",
    "n = 1000\n",
    "step_size = 1\n",
    "c = 0\n",
    "iterations = 100"
   ]
  },
  {
   "cell_type": "code",
   "execution_count": 13,
   "metadata": {
    "scrolled": true
   },
   "outputs": [
    {
     "name": "stdout",
     "output_type": "stream",
     "text": [
      "k value: 2\n",
      "k value: 3\n",
      "k value: 4\n",
      "k value: 5\n",
      "k value: 6\n",
      "k value: 7\n",
      "k value: 8\n",
      "k value: 9\n",
      "k value: 10\n",
      "k value: 11\n",
      "k value: 12\n",
      "k value: 13\n",
      "k value: 14\n",
      "k value: 15\n",
      "k value: 16\n",
      "k value: 17\n",
      "k value: 18\n",
      "k value: 19\n",
      "k value: 20\n",
      "k value: 21\n",
      "k value: 22\n",
      "k value: 23\n",
      "k value: 24\n",
      "k value: 25\n",
      "k value: 26\n",
      "k value: 27\n",
      "k value: 28\n",
      "k value: 29\n",
      "k value: 30\n",
      "k value: 31\n",
      "k value: 32\n",
      "k value: 33\n",
      "k value: 34\n",
      "k value: 35\n",
      "k value: 36\n",
      "k value: 37\n",
      "k value: 38\n",
      "k value: 39\n",
      "k value: 40\n",
      "k value: 41\n",
      "k value: 42\n",
      "k value: 43\n",
      "k value: 44\n",
      "k value: 45\n",
      "k value: 46\n",
      "k value: 47\n",
      "k value: 48\n",
      "k value: 49\n",
      "k value: 50\n",
      "k value: 51\n",
      "k value: 52\n",
      "k value: 53\n",
      "k value: 54\n",
      "k value: 55\n",
      "k value: 56\n",
      "k value: 57\n",
      "k value: 58\n",
      "k value: 59\n",
      "k value: 60\n",
      "k value: 61\n",
      "k value: 62\n",
      "k value: 63\n",
      "k value: 64\n",
      "k value: 65\n",
      "k value: 66\n",
      "k value: 67\n",
      "k value: 68\n",
      "k value: 69\n",
      "k value: 70\n",
      "k value: 71\n",
      "k value: 72\n",
      "k value: 73\n",
      "k value: 74\n",
      "k value: 75\n",
      "k value: 76\n",
      "k value: 77\n",
      "k value: 78\n",
      "k value: 79\n",
      "k value: 80\n",
      "k value: 81\n",
      "k value: 82\n",
      "k value: 83\n",
      "k value: 84\n",
      "k value: 85\n",
      "k value: 86\n",
      "k value: 87\n",
      "k value: 88\n",
      "k value: 89\n",
      "k value: 90\n",
      "k value: 91\n",
      "k value: 92\n",
      "k value: 93\n",
      "k value: 94\n",
      "k value: 95\n",
      "k value: 96\n",
      "k value: 97\n",
      "k value: 98\n",
      "k value: 99\n"
     ]
    }
   ],
   "source": [
    "results = []\n",
    "for k in k_values:\n",
    "    print(\"k value: {}\".format(k))\n",
    "    policy = np.zeros(k)\n",
    "    ground_truth = create_model(k, max_sd, min_mean, max_mean)\n",
    "    rewards = []\n",
    "    for i in range(iterations):\n",
    "        result = simulation_e_greedy(ground_truth,policy,epsilon,\n",
    "                                     n, k, step_size,c)\n",
    "        rewards.append(result[3])\n",
    "    results.append(np.mean(rewards))"
   ]
  },
  {
   "cell_type": "code",
   "execution_count": 14,
   "metadata": {},
   "outputs": [
    {
     "data": {
      "image/png": "[encoded data removed]",
      "text/plain": [
       "<Figure size 432x288 with 1 Axes>"
      ]
     },
     "metadata": {},
     "output_type": "display_data"
    }
   ],
   "source": [
    "plt.scatter(x = k_values, y = results)\n",
    "plt.show()"
   ]
  },
  {
   "cell_type": "markdown",
   "metadata": {},
   "source": [
    "This shows that when there isn't enough bandits, there's likely less chance of drawing a bandit with a high mean. However, the average reward tends to level out after about 30-40 bandits.\n",
    "\n",
    "Therefore, for the rest of the experiments, I'm going to use 60 bandits for the experimentation."
   ]
  },
  {
   "cell_type": "markdown",
   "metadata": {},
   "source": [
    "## Testing out Role of Variation"
   ]
  },
  {
   "cell_type": "code",
   "execution_count": 15,
   "metadata": {},
   "outputs": [],
   "source": [
    "k = 60\n",
    "max_sd = 10\n",
    "min_mean = 5\n",
    "max_mean = 30"
   ]
  },
  {
   "cell_type": "code",
   "execution_count": 16,
   "metadata": {},
   "outputs": [],
   "source": [
    "policy = np.zeros(k)\n",
    "\n",
    "epsilon = 0.1\n",
    "n = 1000\n",
    "step_size = 1\n",
    "c = 0\n",
    "iterations = 20"
   ]
  },
  {
   "cell_type": "code",
   "execution_count": 17,
   "metadata": {},
   "outputs": [],
   "source": [
    "max_sd_range = list(range(1,20))"
   ]
  },
  {
   "cell_type": "code",
   "execution_count": 18,
   "metadata": {},
   "outputs": [],
   "source": [
    "epsilon_range = np.arange(0,1.1,0.1)"
   ]
  },
  {
   "cell_type": "code",
   "execution_count": 19,
   "metadata": {},
   "outputs": [
    {
     "name": "stdout",
     "output_type": "stream",
     "text": [
      "epsilon values: 0.0\n",
      "epsilon values: 0.1\n",
      "epsilon values: 0.2\n",
      "epsilon values: 0.30000000000000004\n",
      "epsilon values: 0.4\n",
      "epsilon values: 0.5\n",
      "epsilon values: 0.6000000000000001\n",
      "epsilon values: 0.7000000000000001\n",
      "epsilon values: 0.8\n",
      "epsilon values: 0.9\n",
      "epsilon values: 1.0\n"
     ]
    }
   ],
   "source": [
    "results = pd.DataFrame(columns=[\"max_sd\", \"epsilon\", \"average reward\"])\n",
    "\n",
    "for epsilon in epsilon_range:\n",
    "    print(\"epsilon values: {}\".format(epsilon))\n",
    "    for max_sd in max_sd_range:\n",
    "        policy = np.zeros(k)\n",
    "        ground_truth = create_model(k, max_sd, min_mean, max_mean)\n",
    "        rewards = []\n",
    "        for i in range(iterations):\n",
    "            result = simulation_e_greedy(ground_truth,policy,epsilon,\n",
    "                                         n, k, step_size,c)\n",
    "            rewards.append(result[3])\n",
    "        stats = [max_sd, epsilon, np.mean(rewards)]\n",
    "        results.loc[len(results)] = stats"
   ]
  },
  {
   "cell_type": "code",
   "execution_count": 20,
   "metadata": {},
   "outputs": [
    {
     "data": {
      "image/png": "[encoded data removed]",
      "text/plain": [
       "<Figure size 576x432 with 1 Axes>"
      ]
     },
     "metadata": {},
     "output_type": "display_data"
    }
   ],
   "source": [
    "fig = plt.figure(figsize=(8, 6))\n",
    "ax = fig.add_subplot(111, projection='3d')\n",
    "\n",
    "xs = results['max_sd']\n",
    "ys = results['epsilon']\n",
    "zs = results['average reward']\n",
    "ax.scatter(xs, ys, zs, s=50, alpha=0.6, edgecolors='w')\n",
    "\n",
    "ax.set_xlabel('Max SD')\n",
    "ax.set_ylabel('Epsilon')\n",
    "ax.set_zlabel('Average Reward')\n",
    "\n",
    "plt.show()"
   ]
  },
  {
   "cell_type": "code",
   "execution_count": 21,
   "metadata": {},
   "outputs": [
    {
     "data": {
      "image/png": "[encoded data removed]",
      "text/plain": [
       "<Figure size 432x288 with 1 Axes>"
      ]
     },
     "metadata": {},
     "output_type": "display_data"
    }
   ],
   "source": [
    "ax = results.groupby('epsilon', as_index= False)['average reward'].sum().plot.scatter(\"epsilon\", \"average reward\")"
   ]
  },
  {
   "cell_type": "markdown",
   "metadata": {},
   "source": [
    "This shows that the reward is improved by a small epsilon value improvement, but it gets hurt by a high epsilon value. This indicates that some exploration is good, but too much is bad."
   ]
  },
  {
   "cell_type": "code",
   "execution_count": 22,
   "metadata": {},
   "outputs": [
    {
     "data": {
      "image/png": "[encoded data removed]",
      "text/plain": [
       "<Figure size 432x288 with 1 Axes>"
      ]
     },
     "metadata": {},
     "output_type": "display_data"
    }
   ],
   "source": [
    "ax = results.groupby('max_sd', as_index= False)['average reward'].sum().plot.scatter(\"max_sd\", \"average reward\")"
   ]
  },
  {
   "cell_type": "markdown",
   "metadata": {},
   "source": [
    "This shows that in aggregate, there is not an indentifiable relationship between reward and variance."
   ]
  },
  {
   "cell_type": "code",
   "execution_count": 23,
   "metadata": {},
   "outputs": [
    {
     "data": {
      "image/png": "[encoded data removed]",
      "text/plain": [
       "<Figure size 432x288 with 1 Axes>"
      ]
     },
     "metadata": {},
     "output_type": "display_data"
    }
   ],
   "source": [
    "ax = results[results['max_sd'] == 1].plot.scatter(x = \"epsilon\", y = \"average reward\", c = \"red\")\n",
    "results[results['max_sd'] == 10].plot.scatter(x = \"epsilon\", y = \"average reward\", c = \"blue\", ax = ax)\n",
    "results[results['max_sd'] == 15].plot.scatter(x = \"epsilon\", y = \"average reward\", c = \"green\", ax = ax)\n",
    "plt.show()"
   ]
  },
  {
   "cell_type": "markdown",
   "metadata": {},
   "source": [
    "This demonstrated that there is a common relationship between highly variable and low variable generators."
   ]
  },
  {
   "cell_type": "markdown",
   "metadata": {},
   "source": [
    "## Testing Different epsilon parameter in epsilon-greedy algorithm"
   ]
  },
  {
   "cell_type": "code",
   "execution_count": 24,
   "metadata": {},
   "outputs": [],
   "source": [
    "n = 1000\n",
    "step_size = 1\n",
    "c = 0"
   ]
  },
  {
   "cell_type": "code",
   "execution_count": 25,
   "metadata": {},
   "outputs": [],
   "source": [
    "epsilon_range = np.arange(0,1.1,0.1)\n",
    "iterations = 100"
   ]
  },
  {
   "cell_type": "code",
   "execution_count": 26,
   "metadata": {},
   "outputs": [
    {
     "name": "stdout",
     "output_type": "stream",
     "text": [
      "epsilon values: 0.0\n",
      "epsilon values: 0.1\n",
      "epsilon values: 0.2\n",
      "epsilon values: 0.30000000000000004\n",
      "epsilon values: 0.4\n",
      "epsilon values: 0.5\n",
      "epsilon values: 0.6000000000000001\n",
      "epsilon values: 0.7000000000000001\n",
      "epsilon values: 0.8\n",
      "epsilon values: 0.9\n",
      "epsilon values: 1.0\n"
     ]
    }
   ],
   "source": [
    "results = []\n",
    "for epsilon in epsilon_range:\n",
    "    print(\"epsilon values: {}\".format(epsilon))\n",
    "    rewards = []\n",
    "    for i in range(iterations):\n",
    "        policy = np.zeros(k)\n",
    "        ground_truth = create_model(k, max_sd, min_mean, max_mean)\n",
    "        result = simulation_e_greedy(ground_truth,policy,epsilon,\n",
    "                                     n, k, step_size,c)\n",
    "        rewards.append(result[3])\n",
    "    results.append(np.mean(rewards))"
   ]
  },
  {
   "cell_type": "code",
   "execution_count": 27,
   "metadata": {},
   "outputs": [
    {
     "data": {
      "text/plain": [
       "<matplotlib.collections.PathCollection at 0x115c22a20>"
      ]
     },
     "execution_count": 27,
     "metadata": {},
     "output_type": "execute_result"
    },
    {
     "data": {
      "image/png": "[encoded data removed]",
      "text/plain": [
       "<Figure size 432x288 with 1 Axes>"
      ]
     },
     "metadata": {},
     "output_type": "display_data"
    }
   ],
   "source": [
    "plt.scatter(x = epsilon_range, y = results)"
   ]
  },
  {
   "cell_type": "markdown",
   "metadata": {},
   "source": [
    "This shows there is a large jump with an epsilon value between [0,0.1]."
   ]
  },
  {
   "cell_type": "markdown",
   "metadata": {},
   "source": [
    "## Attempting to Find Optimal Epsilon Value"
   ]
  },
  {
   "cell_type": "code",
   "execution_count": 28,
   "metadata": {},
   "outputs": [],
   "source": [
    "n = 1000\n",
    "step_size = 1\n",
    "c = 0"
   ]
  },
  {
   "cell_type": "code",
   "execution_count": 29,
   "metadata": {},
   "outputs": [],
   "source": [
    "epsilon_range = np.arange(0,0.31,0.01)\n",
    "iterations = 100"
   ]
  },
  {
   "cell_type": "code",
   "execution_count": 30,
   "metadata": {},
   "outputs": [
    {
     "name": "stdout",
     "output_type": "stream",
     "text": [
      "epsilon values: 0.0\n",
      "epsilon values: 0.01\n",
      "epsilon values: 0.02\n",
      "epsilon values: 0.03\n",
      "epsilon values: 0.04\n",
      "epsilon values: 0.05\n",
      "epsilon values: 0.06\n",
      "epsilon values: 0.07\n",
      "epsilon values: 0.08\n",
      "epsilon values: 0.09\n",
      "epsilon values: 0.1\n",
      "epsilon values: 0.11\n",
      "epsilon values: 0.12\n",
      "epsilon values: 0.13\n",
      "epsilon values: 0.14\n",
      "epsilon values: 0.15\n",
      "epsilon values: 0.16\n",
      "epsilon values: 0.17\n",
      "epsilon values: 0.18\n",
      "epsilon values: 0.19\n",
      "epsilon values: 0.2\n",
      "epsilon values: 0.21\n",
      "epsilon values: 0.22\n",
      "epsilon values: 0.23\n",
      "epsilon values: 0.24\n",
      "epsilon values: 0.25\n",
      "epsilon values: 0.26\n",
      "epsilon values: 0.27\n",
      "epsilon values: 0.28\n",
      "epsilon values: 0.29\n",
      "epsilon values: 0.3\n"
     ]
    }
   ],
   "source": [
    "results = []\n",
    "for epsilon in epsilon_range:\n",
    "    print(\"epsilon values: {}\".format(epsilon))\n",
    "    rewards = []\n",
    "    for i in range(iterations):\n",
    "        policy = np.zeros(k)\n",
    "        ground_truth = create_model(k, max_sd, min_mean, max_mean)\n",
    "        result = simulation_e_greedy(ground_truth,policy,epsilon,\n",
    "                                     n, k, step_size,c)\n",
    "        rewards.append(result[3])\n",
    "    results.append(np.mean(rewards))"
   ]
  },
  {
   "cell_type": "code",
   "execution_count": 31,
   "metadata": {},
   "outputs": [
    {
     "data": {
      "image/png": "[encoded data removed]",
      "text/plain": [
       "<Figure size 432x288 with 1 Axes>"
      ]
     },
     "metadata": {},
     "output_type": "display_data"
    }
   ],
   "source": [
    "plt.scatter(x = epsilon_range, y = results)\n",
    "plt.show()"
   ]
  },
  {
   "cell_type": "markdown",
   "metadata": {},
   "source": [
    "This seems to indicate that an epsilon value between 0.05 and 0.15 is likely a good choice."
   ]
  },
  {
   "cell_type": "markdown",
   "metadata": {},
   "source": [
    "## Testing Optimisitic Initial Value"
   ]
  },
  {
   "cell_type": "code",
   "execution_count": 32,
   "metadata": {},
   "outputs": [],
   "source": [
    "k = 60\n",
    "max_sd = 10\n",
    "min_mean = 5\n",
    "max_mean = 30\n",
    "iterations = 100"
   ]
  },
  {
   "cell_type": "code",
   "execution_count": 33,
   "metadata": {},
   "outputs": [],
   "source": [
    "ground_truth = create_model(k, max_sd, min_mean, max_mean)"
   ]
  },
  {
   "cell_type": "code",
   "execution_count": 34,
   "metadata": {},
   "outputs": [
    {
     "name": "stdout",
     "output_type": "stream",
     "text": [
      "epsilon values: 0.0\n",
      "epsilon values: 0.01\n",
      "epsilon values: 0.02\n",
      "epsilon values: 0.03\n",
      "epsilon values: 0.04\n",
      "epsilon values: 0.05\n",
      "epsilon values: 0.06\n",
      "epsilon values: 0.07\n",
      "epsilon values: 0.08\n",
      "epsilon values: 0.09\n",
      "epsilon values: 0.1\n",
      "epsilon values: 0.11\n",
      "epsilon values: 0.12\n",
      "epsilon values: 0.13\n",
      "epsilon values: 0.14\n",
      "epsilon values: 0.15\n",
      "epsilon values: 0.16\n",
      "epsilon values: 0.17\n",
      "epsilon values: 0.18\n",
      "epsilon values: 0.19\n",
      "epsilon values: 0.2\n"
     ]
    }
   ],
   "source": [
    "n = 1000\n",
    "step_size = 1\n",
    "c = 0\n",
    "\n",
    "epsilon_range = np.arange(0,0.21,0.01)\n",
    "\n",
    "results1 = []\n",
    "for epsilon in epsilon_range:\n",
    "    print(\"epsilon values: {}\".format(epsilon))\n",
    "    rewards = []\n",
    "    for i in range(iterations):\n",
    "        policy = np.zeros(k)\n",
    "        result = simulation_e_greedy(ground_truth,policy,epsilon,\n",
    "                                     n, k, step_size,c)\n",
    "        rewards.append(result[3])\n",
    "    results1.append(np.mean(rewards))"
   ]
  },
  {
   "cell_type": "code",
   "execution_count": 35,
   "metadata": {},
   "outputs": [
    {
     "name": "stdout",
     "output_type": "stream",
     "text": [
      "epsilon values: 0.0\n",
      "epsilon values: 0.01\n",
      "epsilon values: 0.02\n",
      "epsilon values: 0.03\n",
      "epsilon values: 0.04\n",
      "epsilon values: 0.05\n",
      "epsilon values: 0.06\n",
      "epsilon values: 0.07\n",
      "epsilon values: 0.08\n",
      "epsilon values: 0.09\n",
      "epsilon values: 0.1\n",
      "epsilon values: 0.11\n",
      "epsilon values: 0.12\n",
      "epsilon values: 0.13\n",
      "epsilon values: 0.14\n",
      "epsilon values: 0.15\n",
      "epsilon values: 0.16\n",
      "epsilon values: 0.17\n",
      "epsilon values: 0.18\n",
      "epsilon values: 0.19\n",
      "epsilon values: 0.2\n"
     ]
    }
   ],
   "source": [
    "n = 1000\n",
    "step_size = 1\n",
    "c = 0\n",
    "\n",
    "epsilon_range = np.arange(0,0.21,0.01)\n",
    "\n",
    "results2 = []\n",
    "for epsilon in epsilon_range:\n",
    "    print(\"epsilon values: {}\".format(epsilon))\n",
    "    rewards = []\n",
    "    for i in range(iterations):\n",
    "        policy = np.zeros(k)\n",
    "        policy.fill(5)\n",
    "        result = simulation_e_greedy(ground_truth,policy,epsilon,\n",
    "                                     n, k, step_size,c)\n",
    "        rewards.append(result[3])\n",
    "    results2.append(np.mean(rewards))"
   ]
  },
  {
   "cell_type": "code",
   "execution_count": 36,
   "metadata": {},
   "outputs": [
    {
     "name": "stdout",
     "output_type": "stream",
     "text": [
      "epsilon values: 0.0\n",
      "epsilon values: 0.01\n",
      "epsilon values: 0.02\n",
      "epsilon values: 0.03\n",
      "epsilon values: 0.04\n",
      "epsilon values: 0.05\n",
      "epsilon values: 0.06\n",
      "epsilon values: 0.07\n",
      "epsilon values: 0.08\n",
      "epsilon values: 0.09\n",
      "epsilon values: 0.1\n",
      "epsilon values: 0.11\n",
      "epsilon values: 0.12\n",
      "epsilon values: 0.13\n",
      "epsilon values: 0.14\n",
      "epsilon values: 0.15\n",
      "epsilon values: 0.16\n",
      "epsilon values: 0.17\n",
      "epsilon values: 0.18\n",
      "epsilon values: 0.19\n",
      "epsilon values: 0.2\n"
     ]
    }
   ],
   "source": [
    "n = 1000\n",
    "step_size = 1\n",
    "c = 0\n",
    "\n",
    "epsilon_range = np.arange(0,0.21,0.01)\n",
    "\n",
    "results3 = []\n",
    "for epsilon in epsilon_range:\n",
    "    print(\"epsilon values: {}\".format(epsilon))\n",
    "    rewards = []\n",
    "    for i in range(iterations):\n",
    "        policy = np.zeros(k)\n",
    "        policy.fill(10)\n",
    "        result = simulation_e_greedy(ground_truth,policy,epsilon,\n",
    "                                     n, k, step_size,c)\n",
    "        rewards.append(result[3])\n",
    "    results3.append(np.mean(rewards))"
   ]
  },
  {
   "cell_type": "code",
   "execution_count": 37,
   "metadata": {},
   "outputs": [
    {
     "name": "stdout",
     "output_type": "stream",
     "text": [
      "epsilon values: 0.0\n",
      "epsilon values: 0.01\n",
      "epsilon values: 0.02\n",
      "epsilon values: 0.03\n",
      "epsilon values: 0.04\n",
      "epsilon values: 0.05\n",
      "epsilon values: 0.06\n",
      "epsilon values: 0.07\n",
      "epsilon values: 0.08\n",
      "epsilon values: 0.09\n",
      "epsilon values: 0.1\n",
      "epsilon values: 0.11\n",
      "epsilon values: 0.12\n",
      "epsilon values: 0.13\n",
      "epsilon values: 0.14\n",
      "epsilon values: 0.15\n",
      "epsilon values: 0.16\n",
      "epsilon values: 0.17\n",
      "epsilon values: 0.18\n",
      "epsilon values: 0.19\n",
      "epsilon values: 0.2\n"
     ]
    }
   ],
   "source": [
    "n = 1000\n",
    "step_size = 1\n",
    "c = 0\n",
    "\n",
    "epsilon_range = np.arange(0,0.21,0.01)\n",
    "\n",
    "results4 = []\n",
    "for epsilon in epsilon_range:\n",
    "    print(\"epsilon values: {}\".format(epsilon))\n",
    "    rewards = []\n",
    "    for i in range(iterations):\n",
    "        policy = np.zeros(k)\n",
    "        policy.fill(30)\n",
    "        result = simulation_e_greedy(ground_truth,policy,epsilon,\n",
    "                                     n, k, step_size,c)\n",
    "        rewards.append(result[3])\n",
    "    results4.append(np.mean(rewards))"
   ]
  },
  {
   "cell_type": "code",
   "execution_count": 38,
   "metadata": {},
   "outputs": [
    {
     "name": "stdout",
     "output_type": "stream",
     "text": [
      "epsilon values: 0.0\n",
      "epsilon values: 0.01\n",
      "epsilon values: 0.02\n",
      "epsilon values: 0.03\n",
      "epsilon values: 0.04\n",
      "epsilon values: 0.05\n",
      "epsilon values: 0.06\n",
      "epsilon values: 0.07\n",
      "epsilon values: 0.08\n",
      "epsilon values: 0.09\n",
      "epsilon values: 0.1\n",
      "epsilon values: 0.11\n",
      "epsilon values: 0.12\n",
      "epsilon values: 0.13\n",
      "epsilon values: 0.14\n",
      "epsilon values: 0.15\n",
      "epsilon values: 0.16\n",
      "epsilon values: 0.17\n",
      "epsilon values: 0.18\n",
      "epsilon values: 0.19\n",
      "epsilon values: 0.2\n"
     ]
    }
   ],
   "source": [
    "n = 1000\n",
    "step_size = 1\n",
    "c = 0\n",
    "\n",
    "epsilon_range = np.arange(0,0.21,0.01)\n",
    "\n",
    "results5 = []\n",
    "for epsilon in epsilon_range:\n",
    "    print(\"epsilon values: {}\".format(epsilon))\n",
    "    rewards = []\n",
    "    for i in range(iterations):\n",
    "        policy = np.zeros(k)\n",
    "        policy.fill(50)\n",
    "        result = simulation_e_greedy(ground_truth,policy,epsilon,\n",
    "                                     n, k, step_size,c)\n",
    "        rewards.append(result[3])\n",
    "    results5.append(np.mean(rewards))"
   ]
  },
  {
   "cell_type": "code",
   "execution_count": 39,
   "metadata": {},
   "outputs": [],
   "source": [
    "df = pd.DataFrame(columns=['t1', 't2'])\n",
    "df['t1'] = results1\n",
    "df['t2'] = results2\n",
    "df['t3'] = results3\n",
    "df['t4'] = results4\n",
    "df['t5'] = results5\n",
    "df['epsilon'] = epsilon_range"
   ]
  },
  {
   "cell_type": "code",
   "execution_count": 40,
   "metadata": {},
   "outputs": [
    {
     "data": {
      "text/html": [
       "<div>\n",
       "<style scoped>\n",
       "    .dataframe tbody tr th:only-of-type {\n",
       "        vertical-align: middle;\n",
       "    }\n",
       "\n",
       "    .dataframe tbody tr th {\n",
       "        vertical-align: top;\n",
       "    }\n",
       "\n",
       "    .dataframe thead th {\n",
       "        text-align: right;\n",
       "    }\n",
       "</style>\n",
       "<table border=\"1\" class=\"dataframe\">\n",
       "  <thead>\n",
       "    <tr style=\"text-align: right;\">\n",
       "      <th></th>\n",
       "      <th>t1</th>\n",
       "      <th>t2</th>\n",
       "      <th>t3</th>\n",
       "      <th>t4</th>\n",
       "      <th>t5</th>\n",
       "      <th>epsilon</th>\n",
       "    </tr>\n",
       "  </thead>\n",
       "  <tbody>\n",
       "    <tr>\n",
       "      <th>0</th>\n",
       "      <td>19009.631971</td>\n",
       "      <td>18919.098656</td>\n",
       "      <td>18920.403983</td>\n",
       "      <td>29274.903749</td>\n",
       "      <td>29232.041960</td>\n",
       "      <td>0.00</td>\n",
       "    </tr>\n",
       "    <tr>\n",
       "      <th>1</th>\n",
       "      <td>25242.921991</td>\n",
       "      <td>25574.611593</td>\n",
       "      <td>25573.143732</td>\n",
       "      <td>29177.936395</td>\n",
       "      <td>29135.049349</td>\n",
       "      <td>0.01</td>\n",
       "    </tr>\n",
       "    <tr>\n",
       "      <th>2</th>\n",
       "      <td>27015.544426</td>\n",
       "      <td>26964.502251</td>\n",
       "      <td>26836.872208</td>\n",
       "      <td>29064.165044</td>\n",
       "      <td>28993.466211</td>\n",
       "      <td>0.02</td>\n",
       "    </tr>\n",
       "    <tr>\n",
       "      <th>3</th>\n",
       "      <td>27630.276464</td>\n",
       "      <td>27623.703615</td>\n",
       "      <td>27874.943167</td>\n",
       "      <td>28910.831767</td>\n",
       "      <td>28919.436539</td>\n",
       "      <td>0.03</td>\n",
       "    </tr>\n",
       "    <tr>\n",
       "      <th>4</th>\n",
       "      <td>27898.977370</td>\n",
       "      <td>27960.203283</td>\n",
       "      <td>28172.523044</td>\n",
       "      <td>28827.399099</td>\n",
       "      <td>28795.335255</td>\n",
       "      <td>0.04</td>\n",
       "    </tr>\n",
       "  </tbody>\n",
       "</table>\n",
       "</div>"
      ],
      "text/plain": [
       "             t1            t2            t3            t4            t5  \\\n",
       "0  19009.631971  18919.098656  18920.403983  29274.903749  29232.041960   \n",
       "1  25242.921991  25574.611593  25573.143732  29177.936395  29135.049349   \n",
       "2  27015.544426  26964.502251  26836.872208  29064.165044  28993.466211   \n",
       "3  27630.276464  27623.703615  27874.943167  28910.831767  28919.436539   \n",
       "4  27898.977370  27960.203283  28172.523044  28827.399099  28795.335255   \n",
       "\n",
       "   epsilon  \n",
       "0     0.00  \n",
       "1     0.01  \n",
       "2     0.02  \n",
       "3     0.03  \n",
       "4     0.04  "
      ]
     },
     "execution_count": 40,
     "metadata": {},
     "output_type": "execute_result"
    }
   ],
   "source": [
    "df.head()"
   ]
  },
  {
   "cell_type": "code",
   "execution_count": 48,
   "metadata": {},
   "outputs": [
    {
     "data": {
      "image/png": "[encoded data removed]",
      "text/plain": [
       "<Figure size 432x288 with 1 Axes>"
      ]
     },
     "metadata": {},
     "output_type": "display_data"
    }
   ],
   "source": [
    "ax = df.plot.scatter(x = \"epsilon\", y = \"t1\", c = \"red\")\n",
    "df.plot.scatter(x = \"epsilon\", y = \"t2\", c = \"blue\", ax = ax)\n",
    "df.plot.scatter(x = \"epsilon\", y = \"t3\", c = \"green\", ax = ax)\n",
    "df.plot.scatter(x = \"epsilon\", y = \"t4\", c = \"black\", ax = ax)\n",
    "df.plot.scatter(x = \"epsilon\", y = \"t5\", c = \"pink\", ax = ax)\n",
    "plt.ylabel(\"average reward\")\n",
    "plt.show()"
   ]
  },
  {
   "cell_type": "markdown",
   "metadata": {},
   "source": [
    "This shows that there is an exploration inherent in applying an optimistic initialization of the policy. \n",
    "\n",
    "The goal of this task is to find the best bandit earlier on rather than applying randomness for the whole process. It seems that the optimistic initialization causes exploration in the earlier steps, which allows us to have high amounts of exploitation later in the steps.\n",
    "\n",
    "This shows that optimistic initialization is a better option than e-greedy policy update methods."
   ]
  },
  {
   "cell_type": "markdown",
   "metadata": {},
   "source": [
    "## Upper-Confidence Bound Action Modification"
   ]
  },
  {
   "cell_type": "code",
   "execution_count": 42,
   "metadata": {},
   "outputs": [],
   "source": [
    "k = 60\n",
    "max_sd = 10\n",
    "min_mean = 5\n",
    "max_mean = 30\n",
    "iterations = 200"
   ]
  },
  {
   "cell_type": "code",
   "execution_count": 43,
   "metadata": {},
   "outputs": [],
   "source": [
    "n = 1000\n",
    "step_size = 1\n",
    "c = 0\n",
    "epsilon = 0.0\n",
    "\n",
    "ground_truth = create_model(k, max_sd, min_mean, max_mean)"
   ]
  },
  {
   "cell_type": "code",
   "execution_count": 44,
   "metadata": {},
   "outputs": [],
   "source": [
    "c_range = np.arange(0, 2.1, 0.1)"
   ]
  },
  {
   "cell_type": "code",
   "execution_count": 45,
   "metadata": {},
   "outputs": [
    {
     "name": "stdout",
     "output_type": "stream",
     "text": [
      "c parameter value: 0.0\n",
      "c parameter value: 0.1\n",
      "c parameter value: 0.2\n",
      "c parameter value: 0.30000000000000004\n",
      "c parameter value: 0.4\n",
      "c parameter value: 0.5\n",
      "c parameter value: 0.6000000000000001\n",
      "c parameter value: 0.7000000000000001\n",
      "c parameter value: 0.8\n",
      "c parameter value: 0.9\n",
      "c parameter value: 1.0\n",
      "c parameter value: 1.1\n",
      "c parameter value: 1.2000000000000002\n",
      "c parameter value: 1.3\n",
      "c parameter value: 1.4000000000000001\n",
      "c parameter value: 1.5\n",
      "c parameter value: 1.6\n",
      "c parameter value: 1.7000000000000002\n",
      "c parameter value: 1.8\n",
      "c parameter value: 1.9000000000000001\n",
      "c parameter value: 2.0\n"
     ]
    }
   ],
   "source": [
    "results = []\n",
    "for c in c_range:\n",
    "    print(\"c parameter value: {}\".format(c))\n",
    "    rewards = []\n",
    "    for i in range(iterations):\n",
    "        policy = np.zeros(k)\n",
    "        policy.fill(50)\n",
    "        result = simulation_e_greedy(ground_truth,policy,epsilon,\n",
    "                                     n, k, step_size,c)\n",
    "        rewards.append(result[3])\n",
    "    results.append(np.mean(rewards))"
   ]
  },
  {
   "cell_type": "code",
   "execution_count": 47,
   "metadata": {},
   "outputs": [
    {
     "data": {
      "image/png": "[encoded data removed]",
      "text/plain": [
       "<Figure size 432x288 with 1 Axes>"
      ]
     },
     "metadata": {},
     "output_type": "display_data"
    }
   ],
   "source": [
    "plt.scatter(x = c_range, y = results)\n",
    "plt.xlabel(\"c parameter\")\n",
    "plt.ylabel(\"average reward\")\n",
    "plt.show()"
   ]
  },
  {
   "cell_type": "markdown",
   "metadata": {},
   "source": [
    "This shows that when using the optimistic initialization, the upper-confidence bound actions is not neccessary."
   ]
  },
  {
   "cell_type": "code",
   "execution_count": null,
   "metadata": {},
   "outputs": [],
   "source": []
  }
 ],
 "metadata": {
  "kernelspec": {
   "display_name": "Python 3",
   "language": "python",
   "name": "python3"
  },
  "language_info": {
   "codemirror_mode": {
    "name": "ipython",
    "version": 3
   },
   "file_extension": ".py",
   "mimetype": "text/x-python",
   "name": "python",
   "nbconvert_exporter": "python",
   "pygments_lexer": "ipython3",
   "version": "3.6.5"
  }
 },
 "nbformat": 4,
 "nbformat_minor": 2
}
